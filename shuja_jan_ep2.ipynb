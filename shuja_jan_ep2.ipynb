{
  "nbformat": 4,
  "nbformat_minor": 0,
  "metadata": {
    "colab": {
      "provenance": []
    },
    "kernelspec": {
      "name": "python3",
      "display_name": "Python 3"
    },
    "language_info": {
      "name": "python"
    }
  },
  "cells": [
    {
      "cell_type": "code",
      "execution_count": null,
      "metadata": {
        "id": "FHg7b3nYs7D7"
      },
      "outputs": [],
      "source": [
        "import pandas as pd"
      ]
    },
    {
      "cell_type": "code",
      "source": [
        "data1 = pd.read_csv(\"/content/drive/MyDrive/Kaggle_1/playground-series-s3e2/train.csv\")\n",
        "#data1.drop(data1.columns[data1.columns.str.contains('unnamed',case = False)],axis = 1, inplace = True)"
      ],
      "metadata": {
        "id": "rCx2RbQHtSuE"
      },
      "execution_count": null,
      "outputs": []
    },
    {
      "cell_type": "code",
      "source": [
        "data1 = data1.drop(\"id\", axis =1)"
      ],
      "metadata": {
        "id": "ttQ54JP6tgoD"
      },
      "execution_count": null,
      "outputs": []
    },
    {
      "cell_type": "code",
      "source": [
        "data1.info()"
      ],
      "metadata": {
        "colab": {
          "base_uri": "https://localhost:8080/"
        },
        "id": "wByH8d3Ctk0O",
        "outputId": "090b6b5d-5057-4b94-e33e-70150ba6bc6c"
      },
      "execution_count": null,
      "outputs": [
        {
          "output_type": "stream",
          "name": "stdout",
          "text": [
            "<class 'pandas.core.frame.DataFrame'>\n",
            "RangeIndex: 15304 entries, 0 to 15303\n",
            "Data columns (total 11 columns):\n",
            " #   Column             Non-Null Count  Dtype  \n",
            "---  ------             --------------  -----  \n",
            " 0   gender             15304 non-null  object \n",
            " 1   age                15304 non-null  float64\n",
            " 2   hypertension       15304 non-null  int64  \n",
            " 3   heart_disease      15304 non-null  int64  \n",
            " 4   ever_married       15304 non-null  object \n",
            " 5   work_type          15304 non-null  object \n",
            " 6   Residence_type     15304 non-null  object \n",
            " 7   avg_glucose_level  15304 non-null  float64\n",
            " 8   bmi                15304 non-null  float64\n",
            " 9   smoking_status     15304 non-null  object \n",
            " 10  stroke             15304 non-null  int64  \n",
            "dtypes: float64(3), int64(3), object(5)\n",
            "memory usage: 1.3+ MB\n"
          ]
        }
      ]
    },
    {
      "cell_type": "code",
      "source": [
        "data1.describe()"
      ],
      "metadata": {
        "colab": {
          "base_uri": "https://localhost:8080/",
          "height": 300
        },
        "id": "0_CWK4UxtnBG",
        "outputId": "0677d654-0de1-4834-f25c-e37de972b844"
      },
      "execution_count": null,
      "outputs": [
        {
          "output_type": "execute_result",
          "data": {
            "text/plain": [
              "                age  hypertension  heart_disease  avg_glucose_level  \\\n",
              "count  15304.000000  15304.000000   15304.000000       15304.000000   \n",
              "mean      41.417708      0.049726       0.023327          89.039853   \n",
              "std       21.444673      0.217384       0.150946          25.476102   \n",
              "min        0.080000      0.000000       0.000000          55.220000   \n",
              "25%       26.000000      0.000000       0.000000          74.900000   \n",
              "50%       43.000000      0.000000       0.000000          85.120000   \n",
              "75%       57.000000      0.000000       0.000000          96.980000   \n",
              "max       82.000000      1.000000       1.000000         267.600000   \n",
              "\n",
              "                bmi        stroke  \n",
              "count  15304.000000  15304.000000  \n",
              "mean      28.112721      0.041296  \n",
              "std        6.722315      0.198981  \n",
              "min       10.300000      0.000000  \n",
              "25%       23.500000      0.000000  \n",
              "50%       27.600000      0.000000  \n",
              "75%       32.000000      0.000000  \n",
              "max       80.100000      1.000000  "
            ],
            "text/html": [
              "\n",
              "  <div id=\"df-c5291a70-4824-429b-9db4-4d07c3549757\">\n",
              "    <div class=\"colab-df-container\">\n",
              "      <div>\n",
              "<style scoped>\n",
              "    .dataframe tbody tr th:only-of-type {\n",
              "        vertical-align: middle;\n",
              "    }\n",
              "\n",
              "    .dataframe tbody tr th {\n",
              "        vertical-align: top;\n",
              "    }\n",
              "\n",
              "    .dataframe thead th {\n",
              "        text-align: right;\n",
              "    }\n",
              "</style>\n",
              "<table border=\"1\" class=\"dataframe\">\n",
              "  <thead>\n",
              "    <tr style=\"text-align: right;\">\n",
              "      <th></th>\n",
              "      <th>age</th>\n",
              "      <th>hypertension</th>\n",
              "      <th>heart_disease</th>\n",
              "      <th>avg_glucose_level</th>\n",
              "      <th>bmi</th>\n",
              "      <th>stroke</th>\n",
              "    </tr>\n",
              "  </thead>\n",
              "  <tbody>\n",
              "    <tr>\n",
              "      <th>count</th>\n",
              "      <td>15304.000000</td>\n",
              "      <td>15304.000000</td>\n",
              "      <td>15304.000000</td>\n",
              "      <td>15304.000000</td>\n",
              "      <td>15304.000000</td>\n",
              "      <td>15304.000000</td>\n",
              "    </tr>\n",
              "    <tr>\n",
              "      <th>mean</th>\n",
              "      <td>41.417708</td>\n",
              "      <td>0.049726</td>\n",
              "      <td>0.023327</td>\n",
              "      <td>89.039853</td>\n",
              "      <td>28.112721</td>\n",
              "      <td>0.041296</td>\n",
              "    </tr>\n",
              "    <tr>\n",
              "      <th>std</th>\n",
              "      <td>21.444673</td>\n",
              "      <td>0.217384</td>\n",
              "      <td>0.150946</td>\n",
              "      <td>25.476102</td>\n",
              "      <td>6.722315</td>\n",
              "      <td>0.198981</td>\n",
              "    </tr>\n",
              "    <tr>\n",
              "      <th>min</th>\n",
              "      <td>0.080000</td>\n",
              "      <td>0.000000</td>\n",
              "      <td>0.000000</td>\n",
              "      <td>55.220000</td>\n",
              "      <td>10.300000</td>\n",
              "      <td>0.000000</td>\n",
              "    </tr>\n",
              "    <tr>\n",
              "      <th>25%</th>\n",
              "      <td>26.000000</td>\n",
              "      <td>0.000000</td>\n",
              "      <td>0.000000</td>\n",
              "      <td>74.900000</td>\n",
              "      <td>23.500000</td>\n",
              "      <td>0.000000</td>\n",
              "    </tr>\n",
              "    <tr>\n",
              "      <th>50%</th>\n",
              "      <td>43.000000</td>\n",
              "      <td>0.000000</td>\n",
              "      <td>0.000000</td>\n",
              "      <td>85.120000</td>\n",
              "      <td>27.600000</td>\n",
              "      <td>0.000000</td>\n",
              "    </tr>\n",
              "    <tr>\n",
              "      <th>75%</th>\n",
              "      <td>57.000000</td>\n",
              "      <td>0.000000</td>\n",
              "      <td>0.000000</td>\n",
              "      <td>96.980000</td>\n",
              "      <td>32.000000</td>\n",
              "      <td>0.000000</td>\n",
              "    </tr>\n",
              "    <tr>\n",
              "      <th>max</th>\n",
              "      <td>82.000000</td>\n",
              "      <td>1.000000</td>\n",
              "      <td>1.000000</td>\n",
              "      <td>267.600000</td>\n",
              "      <td>80.100000</td>\n",
              "      <td>1.000000</td>\n",
              "    </tr>\n",
              "  </tbody>\n",
              "</table>\n",
              "</div>\n",
              "      <button class=\"colab-df-convert\" onclick=\"convertToInteractive('df-c5291a70-4824-429b-9db4-4d07c3549757')\"\n",
              "              title=\"Convert this dataframe to an interactive table.\"\n",
              "              style=\"display:none;\">\n",
              "        \n",
              "  <svg xmlns=\"http://www.w3.org/2000/svg\" height=\"24px\"viewBox=\"0 0 24 24\"\n",
              "       width=\"24px\">\n",
              "    <path d=\"M0 0h24v24H0V0z\" fill=\"none\"/>\n",
              "    <path d=\"M18.56 5.44l.94 2.06.94-2.06 2.06-.94-2.06-.94-.94-2.06-.94 2.06-2.06.94zm-11 1L8.5 8.5l.94-2.06 2.06-.94-2.06-.94L8.5 2.5l-.94 2.06-2.06.94zm10 10l.94 2.06.94-2.06 2.06-.94-2.06-.94-.94-2.06-.94 2.06-2.06.94z\"/><path d=\"M17.41 7.96l-1.37-1.37c-.4-.4-.92-.59-1.43-.59-.52 0-1.04.2-1.43.59L10.3 9.45l-7.72 7.72c-.78.78-.78 2.05 0 2.83L4 21.41c.39.39.9.59 1.41.59.51 0 1.02-.2 1.41-.59l7.78-7.78 2.81-2.81c.8-.78.8-2.07 0-2.86zM5.41 20L4 18.59l7.72-7.72 1.47 1.35L5.41 20z\"/>\n",
              "  </svg>\n",
              "      </button>\n",
              "      \n",
              "  <style>\n",
              "    .colab-df-container {\n",
              "      display:flex;\n",
              "      flex-wrap:wrap;\n",
              "      gap: 12px;\n",
              "    }\n",
              "\n",
              "    .colab-df-convert {\n",
              "      background-color: #E8F0FE;\n",
              "      border: none;\n",
              "      border-radius: 50%;\n",
              "      cursor: pointer;\n",
              "      display: none;\n",
              "      fill: #1967D2;\n",
              "      height: 32px;\n",
              "      padding: 0 0 0 0;\n",
              "      width: 32px;\n",
              "    }\n",
              "\n",
              "    .colab-df-convert:hover {\n",
              "      background-color: #E2EBFA;\n",
              "      box-shadow: 0px 1px 2px rgba(60, 64, 67, 0.3), 0px 1px 3px 1px rgba(60, 64, 67, 0.15);\n",
              "      fill: #174EA6;\n",
              "    }\n",
              "\n",
              "    [theme=dark] .colab-df-convert {\n",
              "      background-color: #3B4455;\n",
              "      fill: #D2E3FC;\n",
              "    }\n",
              "\n",
              "    [theme=dark] .colab-df-convert:hover {\n",
              "      background-color: #434B5C;\n",
              "      box-shadow: 0px 1px 3px 1px rgba(0, 0, 0, 0.15);\n",
              "      filter: drop-shadow(0px 1px 2px rgba(0, 0, 0, 0.3));\n",
              "      fill: #FFFFFF;\n",
              "    }\n",
              "  </style>\n",
              "\n",
              "      <script>\n",
              "        const buttonEl =\n",
              "          document.querySelector('#df-c5291a70-4824-429b-9db4-4d07c3549757 button.colab-df-convert');\n",
              "        buttonEl.style.display =\n",
              "          google.colab.kernel.accessAllowed ? 'block' : 'none';\n",
              "\n",
              "        async function convertToInteractive(key) {\n",
              "          const element = document.querySelector('#df-c5291a70-4824-429b-9db4-4d07c3549757');\n",
              "          const dataTable =\n",
              "            await google.colab.kernel.invokeFunction('convertToInteractive',\n",
              "                                                     [key], {});\n",
              "          if (!dataTable) return;\n",
              "\n",
              "          const docLinkHtml = 'Like what you see? Visit the ' +\n",
              "            '<a target=\"_blank\" href=https://colab.research.google.com/notebooks/data_table.ipynb>data table notebook</a>'\n",
              "            + ' to learn more about interactive tables.';\n",
              "          element.innerHTML = '';\n",
              "          dataTable['output_type'] = 'display_data';\n",
              "          await google.colab.output.renderOutput(dataTable, element);\n",
              "          const docLink = document.createElement('div');\n",
              "          docLink.innerHTML = docLinkHtml;\n",
              "          element.appendChild(docLink);\n",
              "        }\n",
              "      </script>\n",
              "    </div>\n",
              "  </div>\n",
              "  "
            ]
          },
          "metadata": {},
          "execution_count": 5
        }
      ]
    },
    {
      "cell_type": "code",
      "source": [
        "%matplotlib inline\n",
        "import matplotlib.pyplot as plt\n",
        "data1.hist(bins=60,column=data1.columns,figsize=(15,18))"
      ],
      "metadata": {
        "colab": {
          "base_uri": "https://localhost:8080/",
          "height": 1000
        },
        "id": "orC42RgNt5pr",
        "outputId": "71f72e43-bebb-4150-a032-087d060f35a9"
      },
      "execution_count": null,
      "outputs": [
        {
          "output_type": "execute_result",
          "data": {
            "text/plain": [
              "array([[<matplotlib.axes._subplots.AxesSubplot object at 0x7ff00340d310>,\n",
              "        <matplotlib.axes._subplots.AxesSubplot object at 0x7ff0033dd790>],\n",
              "       [<matplotlib.axes._subplots.AxesSubplot object at 0x7ff00338cbb0>,\n",
              "        <matplotlib.axes._subplots.AxesSubplot object at 0x7ff0033bcfa0>],\n",
              "       [<matplotlib.axes._subplots.AxesSubplot object at 0x7ff0033723d0>,\n",
              "        <matplotlib.axes._subplots.AxesSubplot object at 0x7ff003320700>]],\n",
              "      dtype=object)"
            ]
          },
          "metadata": {},
          "execution_count": 6
        },
        {
          "output_type": "display_data",
          "data": {
            "text/plain": [
              "<Figure size 1080x1296 with 6 Axes>"
            ],
            "image/png": "[encoded data removed]"
          },
          "metadata": {
            "needs_background": "light"
          }
        }
      ]
    },
    {
      "cell_type": "code",
      "source": [
        "X = data1.drop(\"stroke\", axis =1)\n",
        "y = data1[\"stroke\"]"
      ],
      "metadata": {
        "id": "bBMQiMErt-Wx"
      },
      "execution_count": null,
      "outputs": []
    },
    {
      "cell_type": "code",
      "source": [
        "test = pd.read_csv(\"/content/drive/MyDrive/Kaggle_1/playground-series-s3e2/test.csv\")"
      ],
      "metadata": {
        "id": "uIq9wdNcuTfl"
      },
      "execution_count": null,
      "outputs": []
    },
    {
      "cell_type": "code",
      "source": [
        "subm = pd.read_csv(\"/content/drive/MyDrive/Kaggle_1/playground-series-s3e2/sample_submission.csv\")"
      ],
      "metadata": {
        "id": "Wcb-3Vp7uaiI"
      },
      "execution_count": null,
      "outputs": []
    },
    {
      "cell_type": "markdown",
      "source": [
        "## New Section"
      ],
      "metadata": {
        "id": "8n6npX_ZPEKP"
      }
    },
    {
      "cell_type": "code",
      "source": [
        "import numpy as np\n",
        "import pandas as pd\n",
        "import seaborn as sns\n",
        "import matplotlib.pyplot as plt\n",
        "import plotly.express as px\n",
        "%matplotlib inline\n",
        "\n",
        "from sklearn.pipeline import Pipeline\n",
        "from sklearn.compose import ColumnTransformer\n",
        "from sklearn.impute import SimpleImputer\n",
        "\n",
        "from sklearn.model_selection import KFold, StratifiedKFold, RepeatedKFold\n",
        "from sklearn.metrics import mean_squared_error\n",
        "from sklearn.preprocessing import StandardScaler, OneHotEncoder\n",
        "from sklearn.model_selection import GridSearchCV\n"
      ],
      "metadata": {
        "id": "ZHOSBgC7yaX8"
      },
      "execution_count": null,
      "outputs": []
    },
    {
      "cell_type": "code",
      "source": [
        "pip install catboost"
      ],
      "metadata": {
        "colab": {
          "base_uri": "https://localhost:8080/"
        },
        "id": "yvCf5MLJ0aH0",
        "outputId": "93b3a3cb-1c63-471f-f0dc-4991ead4852d"
      },
      "execution_count": null,
      "outputs": [
        {
          "output_type": "stream",
          "name": "stdout",
          "text": [
            "Looking in indexes: https://pypi.org/simple, https://us-python.pkg.dev/colab-wheels/public/simple/\n",
            "Requirement already satisfied: catboost in /usr/local/lib/python3.8/dist-packages (1.1.1)\n",
            "Requirement already satisfied: numpy>=1.16.0 in /usr/local/lib/python3.8/dist-packages (from catboost) (1.21.6)\n",
            "Requirement already satisfied: pandas>=0.24.0 in /usr/local/lib/python3.8/dist-packages (from catboost) (1.3.5)\n",
            "Requirement already satisfied: plotly in /usr/local/lib/python3.8/dist-packages (from catboost) (5.5.0)\n",
            "Requirement already satisfied: scipy in /usr/local/lib/python3.8/dist-packages (from catboost) (1.7.3)\n",
            "Requirement already satisfied: graphviz in /usr/local/lib/python3.8/dist-packages (from catboost) (0.10.1)\n",
            "Requirement already satisfied: six in /usr/local/lib/python3.8/dist-packages (from catboost) (1.15.0)\n",
            "Requirement already satisfied: matplotlib in /usr/local/lib/python3.8/dist-packages (from catboost) (3.2.2)\n",
            "Requirement already satisfied: python-dateutil>=2.7.3 in /usr/local/lib/python3.8/dist-packages (from pandas>=0.24.0->catboost) (2.8.2)\n",
            "Requirement already satisfied: pytz>=2017.3 in /usr/local/lib/python3.8/dist-packages (from pandas>=0.24.0->catboost) (2022.7)\n",
            "Requirement already satisfied: pyparsing!=2.0.4,!=2.1.2,!=2.1.6,>=2.0.1 in /usr/local/lib/python3.8/dist-packages (from matplotlib->catboost) (3.0.9)\n",
            "Requirement already satisfied: cycler>=0.10 in /usr/local/lib/python3.8/dist-packages (from matplotlib->catboost) (0.11.0)\n",
            "Requirement already satisfied: kiwisolver>=1.0.1 in /usr/local/lib/python3.8/dist-packages (from matplotlib->catboost) (1.4.4)\n",
            "Requirement already satisfied: tenacity>=6.2.0 in /usr/local/lib/python3.8/dist-packages (from plotly->catboost) (8.1.0)\n"
          ]
        }
      ]
    },
    {
      "cell_type": "code",
      "source": [
        "\n",
        "import tensorflow as tf\n",
        "import tensorflow_addons as tfa\n",
        "import tensorflow.keras.layers as layers\n",
        "import tensorflow.keras.regularizers as reg\n",
        "from sklearn.linear_model import LogisticRegression, LassoCV\n",
        "from lightgbm.sklearn import LGBMClassifier\n",
        "from catboost import CatBoostClassifier\n",
        "\n",
        "from sklearn.metrics import accuracy_score, roc_auc_score, f1_score"
      ],
      "metadata": {
        "id": "I9yTREPdyl5Z"
      },
      "execution_count": null,
      "outputs": []
    },
    {
      "cell_type": "code",
      "source": [
        "train_df = data1\n",
        "test_df = test"
      ],
      "metadata": {
        "id": "FIosiPczyGhc"
      },
      "execution_count": null,
      "outputs": []
    },
    {
      "cell_type": "code",
      "source": [
        "x_full = train_df.copy()\n",
        "y_full = x_full.pop('stroke').to_numpy()\n",
        "\n",
        "\n",
        "num_cols = [\"age\", \"avg_glucose_level\", \"bmi\"]\n",
        "cat_cols = x_full.columns.difference(num_cols)\n",
        "print(cat_cols)\n",
        "\n",
        "num_pipe = Pipeline([\n",
        "    ('imputer', SimpleImputer(strategy='median')),\n",
        "    ('scaler', StandardScaler())\n",
        "])\n",
        "\n",
        "tr = ColumnTransformer([\n",
        "    (\"num\", num_pipe, num_cols),\n",
        "    (\"cat\", OneHotEncoder(drop=\"first\"), cat_cols),\n",
        "])\n",
        "\n",
        "x_full = tr.fit_transform(x_full)\n",
        "x_test = tr.transform(test_df)\n",
        "\n",
        "\n",
        "print(\"train shape = \", x_full.shape)\n",
        "print(\"test shape = \", x_test.shape)"
      ],
      "metadata": {
        "colab": {
          "base_uri": "https://localhost:8080/"
        },
        "id": "Xl97HqE2vPFf",
        "outputId": "368b2dba-7619-49a3-f1cb-93eb41169725"
      },
      "execution_count": null,
      "outputs": [
        {
          "output_type": "stream",
          "name": "stdout",
          "text": [
            "Index(['Residence_type', 'ever_married', 'gender', 'heart_disease',\n",
            "       'hypertension', 'smoking_status', 'work_type'],\n",
            "      dtype='object')\n",
            "train shape =  (15304, 16)\n",
            "test shape =  (10204, 16)\n"
          ]
        }
      ]
    },
    {
      "cell_type": "code",
      "source": [
        "pip install tensorflow-addons"
      ],
      "metadata": {
        "colab": {
          "base_uri": "https://localhost:8080/"
        },
        "id": "TvUuDGP4zs4E",
        "outputId": "9e96cf54-7adc-4f20-9ce6-f98fc51d1fb0"
      },
      "execution_count": null,
      "outputs": [
        {
          "output_type": "stream",
          "name": "stdout",
          "text": [
            "Looking in indexes: https://pypi.org/simple, https://us-python.pkg.dev/colab-wheels/public/simple/\n",
            "Requirement already satisfied: tensorflow-addons in /usr/local/lib/python3.8/dist-packages (0.19.0)\n",
            "Requirement already satisfied: typeguard>=2.7 in /usr/local/lib/python3.8/dist-packages (from tensorflow-addons) (2.7.1)\n",
            "Requirement already satisfied: packaging in /usr/local/lib/python3.8/dist-packages (from tensorflow-addons) (21.3)\n",
            "Requirement already satisfied: pyparsing!=3.0.5,>=2.0.2 in /usr/local/lib/python3.8/dist-packages (from packaging->tensorflow-addons) (3.0.9)\n"
          ]
        }
      ]
    },
    {
      "cell_type": "code",
      "source": [
        "import tensorflow_addons as tfa\n",
        "import tensorflow as tf\n",
        "def get_model():\n",
        "    d = 0.1\n",
        "    model = tf.keras.models.Sequential([\n",
        "        layers.Dense(256, activation='relu'),\n",
        "        layers.Dropout(d),\n",
        "        layers.Dense(128, activation='relu'),\n",
        "        layers.Dropout(d),\n",
        "        layers.Dense(64, activation='relu'),\n",
        "        layers.Dropout(d),\n",
        "        layers.Dense(1, activation='sigmoid'),\n",
        "    ])\n",
        "    model.compile(\n",
        "        optimizer=tf.keras.optimizers.Adam(),\n",
        "        loss=tfa.losses.SigmoidFocalCrossEntropy(alpha=0.80, gamma=2.0),\n",
        "        metrics=\"AUC\"\n",
        "    )\n",
        "    return model\n",
        "\n"
      ],
      "metadata": {
        "id": "A9XAyNRgzDL6"
      },
      "execution_count": null,
      "outputs": []
    },
    {
      "cell_type": "code",
      "source": [
        "plat = tf.keras.callbacks.ReduceLROnPlateau(monitor=\"val_auc\", mode='max', patience=3, factor=0.1, min_lr=1e-6, min_delta=0.0001)\n",
        "es = tf.keras.callbacks.EarlyStopping(monitor=\"val_auc\", mode='max', patience=7, min_delta=0.0001, restore_best_weights = True)"
      ],
      "metadata": {
        "id": "Xhe5AxyBzLmI"
      },
      "execution_count": null,
      "outputs": []
    },
    {
      "cell_type": "code",
      "source": [
        "import tensorflow.keras.layers as layers\n",
        "from sklearn.metrics import accuracy_score, roc_auc_score, f1_score"
      ],
      "metadata": {
        "id": "5pRCp2VJzZzq"
      },
      "execution_count": null,
      "outputs": []
    },
    {
      "cell_type": "code",
      "source": [
        "models = []\n",
        "scores = []\n",
        "skf = StratifiedKFold(n_splits=12, shuffle=True)\n",
        "\n",
        "\n",
        "for train_index, val_index in skf.split(x_full, y_full):\n",
        "    x_train, x_val = x_full[train_index], x_full[val_index]\n",
        "    y_train, y_val = y_full[train_index], y_full[val_index]\n",
        "    \n",
        "    model = get_model()\n",
        "    h = model.fit(\n",
        "        x_train, y_train,\n",
        "        validation_data = (x_val, y_val),\n",
        "        epochs = 100,\n",
        "        batch_size = 60,\n",
        "        callbacks = [plat, es],\n",
        "        class_weight = { 0: 1.0, 1: 10.0, },\n",
        "        verbose=False\n",
        "    ).history\n",
        "    \n",
        "    s = roc_auc_score(y_val, model.predict(x_val))\n",
        "    print(f\"Best val auc: {s:.4f}\")\n",
        "    scores.append(s)\n",
        "    models.append(model)\n",
        "print(f'mean scores:  {np.mean(scores):.4f}')"
      ],
      "metadata": {
        "colab": {
          "base_uri": "https://localhost:8080/"
        },
        "id": "7vivdAc0zQaa",
        "outputId": "f57335bd-b198-493f-804c-57d9d2ee8a7d"
      },
      "execution_count": null,
      "outputs": [
        {
          "output_type": "stream",
          "name": "stdout",
          "text": [
            "40/40 [==============================] - 0s 3ms/step\n",
            "Best val auc: 0.8780\n",
            "40/40 [==============================] - 0s 2ms/step\n",
            "Best val auc: 0.9033\n",
            "40/40 [==============================] - 0s 1ms/step\n",
            "Best val auc: 0.8825\n",
            "40/40 [==============================] - 0s 1ms/step\n",
            "Best val auc: 0.8736\n",
            "40/40 [==============================] - 0s 1ms/step\n",
            "Best val auc: 0.9019\n",
            "40/40 [==============================] - 0s 2ms/step\n",
            "Best val auc: 0.8364\n",
            "40/40 [==============================] - 0s 2ms/step\n",
            "Best val auc: 0.9224\n",
            "40/40 [==============================] - 0s 2ms/step\n",
            "Best val auc: 0.8990\n",
            "40/40 [==============================] - 0s 1ms/step\n",
            "Best val auc: 0.8986\n",
            "40/40 [==============================] - 0s 2ms/step\n",
            "Best val auc: 0.8844\n",
            "40/40 [==============================] - 0s 2ms/step\n",
            "Best val auc: 0.8791\n",
            "40/40 [==============================] - 0s 2ms/step\n",
            "Best val auc: 0.8688\n",
            "mean scores:  0.8857\n"
          ]
        }
      ]
    },
    {
      "cell_type": "code",
      "source": [
        "\n",
        "test_preds = []\n",
        "\n",
        "for model in models:\n",
        "    preds = model.predict(x_test)\n",
        "    test_preds.append(preds)\n"
      ],
      "metadata": {
        "colab": {
          "base_uri": "https://localhost:8080/"
        },
        "id": "mcghXa6_0pfj",
        "outputId": "ca2d58db-4a88-4722-e44c-87b76c78625c"
      },
      "execution_count": null,
      "outputs": [
        {
          "output_type": "stream",
          "name": "stdout",
          "text": [
            "319/319 [==============================] - 0s 1ms/step\n",
            "319/319 [==============================] - 0s 1ms/step\n",
            "319/319 [==============================] - 0s 1ms/step\n",
            "319/319 [==============================] - 0s 1ms/step\n",
            "319/319 [==============================] - 0s 1ms/step\n",
            "319/319 [==============================] - 0s 1ms/step\n",
            "319/319 [==============================] - 0s 1ms/step\n",
            "319/319 [==============================] - 0s 1ms/step\n",
            "319/319 [==============================] - 0s 1ms/step\n",
            "319/319 [==============================] - 0s 1ms/step\n",
            "319/319 [==============================] - 0s 1ms/step\n",
            "319/319 [==============================] - 0s 1ms/step\n"
          ]
        }
      ]
    },
    {
      "cell_type": "code",
      "source": [
        "test_preds = np.array(test_preds).mean(0)"
      ],
      "metadata": {
        "id": "qwmzFbMg1rEt"
      },
      "execution_count": null,
      "outputs": []
    },
    {
      "cell_type": "code",
      "source": [
        "subm['stroke'] = test_preds\n",
        "subm.to_csv(\"/content/drive/MyDrive/Kaggle_1/playground-series-s3e2/submission.csv\", index=False)"
      ],
      "metadata": {
        "id": "op0nSjb71upx"
      },
      "execution_count": null,
      "outputs": []
    },
    {
      "cell_type": "code",
      "source": [],
      "metadata": {
        "id": "HJTCG6UGPHBo"
      },
      "execution_count": null,
      "outputs": []
    },
    {
      "cell_type": "markdown",
      "source": [
        "## New Section1"
      ],
      "metadata": {
        "id": "xm0ii1ipPKia"
      }
    },
    {
      "cell_type": "code",
      "source": [
        "print(data1[\"gender\"].unique())\n",
        "print(data1[\"gender\"].value_counts())"
      ],
      "metadata": {
        "colab": {
          "base_uri": "https://localhost:8080/"
        },
        "id": "JL3NCv5PP7tN",
        "outputId": "0169cba3-0b2d-4c97-e5da-99b84b07a307"
      },
      "execution_count": null,
      "outputs": [
        {
          "output_type": "stream",
          "name": "stdout",
          "text": [
            "['Male' 'Female' 'Other']\n",
            "Female    9446\n",
            "Male      5857\n",
            "Other        1\n",
            "Name: gender, dtype: int64\n"
          ]
        }
      ]
    },
    {
      "cell_type": "code",
      "source": [
        "print(data1[\"ever_married\"].unique())\n",
        "print(data1[\"ever_married\"].value_counts())"
      ],
      "metadata": {
        "colab": {
          "base_uri": "https://localhost:8080/"
        },
        "id": "SZEuLs_KPJwh",
        "outputId": "5136817c-e2fe-4aac-c783-5e018a69b60c"
      },
      "execution_count": null,
      "outputs": [
        {
          "output_type": "stream",
          "name": "stdout",
          "text": [
            "['Yes' 'No']\n",
            "Yes    10385\n",
            "No      4919\n",
            "Name: ever_married, dtype: int64\n"
          ]
        }
      ]
    },
    {
      "cell_type": "code",
      "source": [
        "print(data1[\"work_type\"].unique())\n",
        "print(data1[\"work_type\"].value_counts())"
      ],
      "metadata": {
        "colab": {
          "base_uri": "https://localhost:8080/"
        },
        "id": "mHxiONGqP7uT",
        "outputId": "d2f2061b-6457-488d-bf59-d6a04aecfddc"
      },
      "execution_count": null,
      "outputs": [
        {
          "output_type": "stream",
          "name": "stdout",
          "text": [
            "['Private' 'Self-employed' 'Govt_job' 'children' 'Never_worked']\n",
            "Private          9752\n",
            "children         2038\n",
            "Self-employed    1939\n",
            "Govt_job         1533\n",
            "Never_worked       42\n",
            "Name: work_type, dtype: int64\n"
          ]
        }
      ]
    },
    {
      "cell_type": "code",
      "source": [
        "print(data1[\"Residence_type\"].unique())\n",
        "print(data1[\"Residence_type\"].value_counts())"
      ],
      "metadata": {
        "colab": {
          "base_uri": "https://localhost:8080/"
        },
        "id": "xgrrcwxjPv8Z",
        "outputId": "cb7244dd-f45e-4b8f-ecfa-e0ec17644c36"
      },
      "execution_count": null,
      "outputs": [
        {
          "output_type": "stream",
          "name": "stdout",
          "text": [
            "['Urban' 'Rural']\n",
            "Rural    7664\n",
            "Urban    7640\n",
            "Name: Residence_type, dtype: int64\n"
          ]
        }
      ]
    },
    {
      "cell_type": "code",
      "source": [
        "print(data1[\"smoking_status\"].unique())\n",
        "print(data1[\"smoking_status\"].value_counts())"
      ],
      "metadata": {
        "colab": {
          "base_uri": "https://localhost:8080/"
        },
        "id": "oBUeCHYbQZsa",
        "outputId": "999857cf-df98-4b9c-b6a9-b7a3b33a42e0"
      },
      "execution_count": null,
      "outputs": [
        {
          "output_type": "stream",
          "name": "stdout",
          "text": [
            "['never smoked' 'formerly smoked' 'Unknown' 'smokes']\n",
            "never smoked       6281\n",
            "Unknown            4543\n",
            "formerly smoked    2337\n",
            "smokes             2143\n",
            "Name: smoking_status, dtype: int64\n"
          ]
        }
      ]
    },
    {
      "cell_type": "code",
      "source": [
        "one_hot_encoded_data = pd.get_dummies(data1, columns = ['gender', 'ever_married','work_type','Residence_type','smoking_status'])\n",
        "print(one_hot_encoded_data)\n"
      ],
      "metadata": {
        "colab": {
          "base_uri": "https://localhost:8080/"
        },
        "id": "oJzdZveMtA96",
        "outputId": "74642eda-868f-483d-a4db-aa483bcb4a67"
      },
      "execution_count": null,
      "outputs": [
        {
          "output_type": "stream",
          "name": "stdout",
          "text": [
            "        age  hypertension  heart_disease  avg_glucose_level   bmi  stroke  \\\n",
            "0      28.0             0              0              79.53  31.1       0   \n",
            "1      33.0             0              0              78.44  23.9       0   \n",
            "2      42.0             0              0             103.00  40.3       0   \n",
            "3      56.0             0              0              64.87  28.8       0   \n",
            "4      24.0             0              0              73.36  28.8       0   \n",
            "...     ...           ...            ...                ...   ...     ...   \n",
            "15299  22.0             0              0              72.63  19.5       0   \n",
            "15300  46.0             1              0             101.19  32.1       0   \n",
            "15301  75.0             0              0              87.69  26.2       0   \n",
            "15302  46.0             0              0             101.13  22.5       0   \n",
            "15303  14.0             0              0              85.12  24.7       0   \n",
            "\n",
            "       gender_Female  gender_Male  gender_Other  ever_married_No  ...  \\\n",
            "0                  0            1             0                0  ...   \n",
            "1                  0            1             0                0  ...   \n",
            "2                  1            0             0                0  ...   \n",
            "3                  0            1             0                0  ...   \n",
            "4                  1            0             0                1  ...   \n",
            "...              ...          ...           ...              ...  ...   \n",
            "15299              1            0             0                1  ...   \n",
            "15300              1            0             0                0  ...   \n",
            "15301              1            0             0                0  ...   \n",
            "15302              0            1             0                0  ...   \n",
            "15303              1            0             0                1  ...   \n",
            "\n",
            "       work_type_Never_worked  work_type_Private  work_type_Self-employed  \\\n",
            "0                           0                  1                        0   \n",
            "1                           0                  1                        0   \n",
            "2                           0                  1                        0   \n",
            "3                           0                  1                        0   \n",
            "4                           0                  1                        0   \n",
            "...                       ...                ...                      ...   \n",
            "15299                       0                  0                        0   \n",
            "15300                       0                  1                        0   \n",
            "15301                       0                  0                        1   \n",
            "15302                       0                  1                        0   \n",
            "15303                       0                  1                        0   \n",
            "\n",
            "       work_type_children  Residence_type_Rural  Residence_type_Urban  \\\n",
            "0                       0                     0                     1   \n",
            "1                       0                     1                     0   \n",
            "2                       0                     1                     0   \n",
            "3                       0                     0                     1   \n",
            "4                       0                     1                     0   \n",
            "...                   ...                   ...                   ...   \n",
            "15299                   0                     0                     1   \n",
            "15300                   0                     0                     1   \n",
            "15301                   0                     0                     1   \n",
            "15302                   0                     1                     0   \n",
            "15303                   0                     1                     0   \n",
            "\n",
            "       smoking_status_Unknown  smoking_status_formerly smoked  \\\n",
            "0                           0                               0   \n",
            "1                           0                               1   \n",
            "2                           1                               0   \n",
            "3                           0                               0   \n",
            "4                           0                               0   \n",
            "...                       ...                             ...   \n",
            "15299                       0                               0   \n",
            "15300                       0                               0   \n",
            "15301                       0                               0   \n",
            "15302                       1                               0   \n",
            "15303                       0                               0   \n",
            "\n",
            "       smoking_status_never smoked  smoking_status_smokes  \n",
            "0                                1                      0  \n",
            "1                                0                      0  \n",
            "2                                0                      0  \n",
            "3                                1                      0  \n",
            "4                                1                      0  \n",
            "...                            ...                    ...  \n",
            "15299                            1                      0  \n",
            "15300                            1                      0  \n",
            "15301                            1                      0  \n",
            "15302                            0                      0  \n",
            "15303                            1                      0  \n",
            "\n",
            "[15304 rows x 22 columns]\n"
          ]
        }
      ]
    },
    {
      "cell_type": "code",
      "source": [
        "one_hot_encoded_data.info()"
      ],
      "metadata": {
        "colab": {
          "base_uri": "https://localhost:8080/"
        },
        "id": "4p7XjIystu4_",
        "outputId": "3bdcd17e-b5b1-47a6-f8ec-6e6966b3e8f2"
      },
      "execution_count": null,
      "outputs": [
        {
          "output_type": "stream",
          "name": "stdout",
          "text": [
            "<class 'pandas.core.frame.DataFrame'>\n",
            "RangeIndex: 15304 entries, 0 to 15303\n",
            "Data columns (total 22 columns):\n",
            " #   Column                          Non-Null Count  Dtype  \n",
            "---  ------                          --------------  -----  \n",
            " 0   age                             15304 non-null  float64\n",
            " 1   hypertension                    15304 non-null  int64  \n",
            " 2   heart_disease                   15304 non-null  int64  \n",
            " 3   avg_glucose_level               15304 non-null  float64\n",
            " 4   bmi                             15304 non-null  float64\n",
            " 5   stroke                          15304 non-null  int64  \n",
            " 6   gender_Female                   15304 non-null  uint8  \n",
            " 7   gender_Male                     15304 non-null  uint8  \n",
            " 8   gender_Other                    15304 non-null  uint8  \n",
            " 9   ever_married_No                 15304 non-null  uint8  \n",
            " 10  ever_married_Yes                15304 non-null  uint8  \n",
            " 11  work_type_Govt_job              15304 non-null  uint8  \n",
            " 12  work_type_Never_worked          15304 non-null  uint8  \n",
            " 13  work_type_Private               15304 non-null  uint8  \n",
            " 14  work_type_Self-employed         15304 non-null  uint8  \n",
            " 15  work_type_children              15304 non-null  uint8  \n",
            " 16  Residence_type_Rural            15304 non-null  uint8  \n",
            " 17  Residence_type_Urban            15304 non-null  uint8  \n",
            " 18  smoking_status_Unknown          15304 non-null  uint8  \n",
            " 19  smoking_status_formerly smoked  15304 non-null  uint8  \n",
            " 20  smoking_status_never smoked     15304 non-null  uint8  \n",
            " 21  smoking_status_smokes           15304 non-null  uint8  \n",
            "dtypes: float64(3), int64(3), uint8(16)\n",
            "memory usage: 956.6 KB\n"
          ]
        }
      ]
    },
    {
      "cell_type": "code",
      "source": [
        "one_hot = one_hot_encoded_data.drop([\"gender_Female\",'gender_Other'],axis =1)"
      ],
      "metadata": {
        "id": "7GZgEcQuuqRz"
      },
      "execution_count": null,
      "outputs": []
    },
    {
      "cell_type": "code",
      "source": [
        "one_hot_encoded_data.info()"
      ],
      "metadata": {
        "colab": {
          "base_uri": "https://localhost:8080/"
        },
        "id": "DMtRmw6bxiqi",
        "outputId": "382307aa-d2bd-4aff-b986-e4442698998a"
      },
      "execution_count": null,
      "outputs": [
        {
          "output_type": "stream",
          "name": "stdout",
          "text": [
            "<class 'pandas.core.frame.DataFrame'>\n",
            "RangeIndex: 15304 entries, 0 to 15303\n",
            "Data columns (total 22 columns):\n",
            " #   Column                          Non-Null Count  Dtype  \n",
            "---  ------                          --------------  -----  \n",
            " 0   age                             15304 non-null  float64\n",
            " 1   hypertension                    15304 non-null  int64  \n",
            " 2   heart_disease                   15304 non-null  int64  \n",
            " 3   avg_glucose_level               15304 non-null  float64\n",
            " 4   bmi                             15304 non-null  float64\n",
            " 5   stroke                          15304 non-null  int64  \n",
            " 6   gender_Female                   15304 non-null  uint8  \n",
            " 7   gender_Male                     15304 non-null  uint8  \n",
            " 8   gender_Other                    15304 non-null  uint8  \n",
            " 9   ever_married_No                 15304 non-null  uint8  \n",
            " 10  ever_married_Yes                15304 non-null  uint8  \n",
            " 11  work_type_Govt_job              15304 non-null  uint8  \n",
            " 12  work_type_Never_worked          15304 non-null  uint8  \n",
            " 13  work_type_Private               15304 non-null  uint8  \n",
            " 14  work_type_Self-employed         15304 non-null  uint8  \n",
            " 15  work_type_children              15304 non-null  uint8  \n",
            " 16  Residence_type_Rural            15304 non-null  uint8  \n",
            " 17  Residence_type_Urban            15304 non-null  uint8  \n",
            " 18  smoking_status_Unknown          15304 non-null  uint8  \n",
            " 19  smoking_status_formerly smoked  15304 non-null  uint8  \n",
            " 20  smoking_status_never smoked     15304 non-null  uint8  \n",
            " 21  smoking_status_smokes           15304 non-null  uint8  \n",
            "dtypes: float64(3), int64(3), uint8(16)\n",
            "memory usage: 956.6 KB\n"
          ]
        }
      ]
    },
    {
      "cell_type": "code",
      "source": [
        "X = one_hot.drop([\"stroke\"],axis = 1)\n",
        "y = one_hot[\"stroke\"]"
      ],
      "metadata": {
        "id": "6vqtki-pvMP_"
      },
      "execution_count": null,
      "outputs": []
    },
    {
      "cell_type": "code",
      "source": [
        "one_hot.info()"
      ],
      "metadata": {
        "colab": {
          "base_uri": "https://localhost:8080/"
        },
        "id": "cU_w4bk815-L",
        "outputId": "000e5141-f355-4fa7-b4ab-c18de1c854a7"
      },
      "execution_count": null,
      "outputs": [
        {
          "output_type": "stream",
          "name": "stdout",
          "text": [
            "<class 'pandas.core.frame.DataFrame'>\n",
            "RangeIndex: 15304 entries, 0 to 15303\n",
            "Data columns (total 20 columns):\n",
            " #   Column                          Non-Null Count  Dtype  \n",
            "---  ------                          --------------  -----  \n",
            " 0   age                             15304 non-null  float64\n",
            " 1   hypertension                    15304 non-null  int64  \n",
            " 2   heart_disease                   15304 non-null  int64  \n",
            " 3   avg_glucose_level               15304 non-null  float64\n",
            " 4   bmi                             15304 non-null  float64\n",
            " 5   stroke                          15304 non-null  int64  \n",
            " 6   gender_Male                     15304 non-null  uint8  \n",
            " 7   ever_married_No                 15304 non-null  uint8  \n",
            " 8   ever_married_Yes                15304 non-null  uint8  \n",
            " 9   work_type_Govt_job              15304 non-null  uint8  \n",
            " 10  work_type_Never_worked          15304 non-null  uint8  \n",
            " 11  work_type_Private               15304 non-null  uint8  \n",
            " 12  work_type_Self-employed         15304 non-null  uint8  \n",
            " 13  work_type_children              15304 non-null  uint8  \n",
            " 14  Residence_type_Rural            15304 non-null  uint8  \n",
            " 15  Residence_type_Urban            15304 non-null  uint8  \n",
            " 16  smoking_status_Unknown          15304 non-null  uint8  \n",
            " 17  smoking_status_formerly smoked  15304 non-null  uint8  \n",
            " 18  smoking_status_never smoked     15304 non-null  uint8  \n",
            " 19  smoking_status_smokes           15304 non-null  uint8  \n",
            "dtypes: float64(3), int64(3), uint8(14)\n",
            "memory usage: 926.7 KB\n"
          ]
        }
      ]
    },
    {
      "cell_type": "code",
      "source": [
        "from sklearn.model_selection import train_test_split"
      ],
      "metadata": {
        "id": "MtQTYfxlww-d"
      },
      "execution_count": null,
      "outputs": []
    },
    {
      "cell_type": "code",
      "source": [
        "X_train, X_test, y_train, y_test = train_test_split(X,y, test_size = 0.2, random_state = 42)"
      ],
      "metadata": {
        "id": "lWu2jcb1wy-2"
      },
      "execution_count": null,
      "outputs": []
    },
    {
      "cell_type": "code",
      "source": [
        "from sklearn.ensemble import RandomForestRegressor"
      ],
      "metadata": {
        "id": "YM-SKPoYw2AY"
      },
      "execution_count": null,
      "outputs": []
    },
    {
      "cell_type": "code",
      "source": [
        "model = RandomForestRegressor()\n",
        "model.fit(X_train, y_train)"
      ],
      "metadata": {
        "colab": {
          "base_uri": "https://localhost:8080/"
        },
        "id": "Pnd_T-Wsw8G3",
        "outputId": "3c0487f1-77c6-46a4-9913-cf360f3cb904"
      },
      "execution_count": null,
      "outputs": [
        {
          "output_type": "execute_result",
          "data": {
            "text/plain": [
              "RandomForestRegressor()"
            ]
          },
          "metadata": {},
          "execution_count": 52
        }
      ]
    },
    {
      "cell_type": "code",
      "source": [
        "X_train.shape\n"
      ],
      "metadata": {
        "colab": {
          "base_uri": "https://localhost:8080/"
        },
        "id": "YBX-kmTfw_fO",
        "outputId": "fed17884-2a5a-4227-8a4b-f413792f685e"
      },
      "execution_count": null,
      "outputs": [
        {
          "output_type": "execute_result",
          "data": {
            "text/plain": [
              "(12243, 19)"
            ]
          },
          "metadata": {},
          "execution_count": 53
        }
      ]
    },
    {
      "cell_type": "code",
      "source": [
        "y_train.shape"
      ],
      "metadata": {
        "colab": {
          "base_uri": "https://localhost:8080/"
        },
        "id": "jJoyl0wXxJCm",
        "outputId": "74d41610-55b0-44df-f328-bbec3e902549"
      },
      "execution_count": null,
      "outputs": [
        {
          "output_type": "execute_result",
          "data": {
            "text/plain": [
              "(12243,)"
            ]
          },
          "metadata": {},
          "execution_count": 54
        }
      ]
    },
    {
      "cell_type": "code",
      "source": [
        "X_test.shape"
      ],
      "metadata": {
        "colab": {
          "base_uri": "https://localhost:8080/"
        },
        "id": "rneFJWMexPJm",
        "outputId": "3dc5d7a8-d2cf-4492-ab50-4eec126bf6d8"
      },
      "execution_count": null,
      "outputs": [
        {
          "output_type": "execute_result",
          "data": {
            "text/plain": [
              "(3061, 19)"
            ]
          },
          "metadata": {},
          "execution_count": 55
        }
      ]
    },
    {
      "cell_type": "code",
      "source": [
        "y_test.shape"
      ],
      "metadata": {
        "colab": {
          "base_uri": "https://localhost:8080/"
        },
        "id": "hswcO8lOxK3X",
        "outputId": "b3f8f029-97fe-4bca-b050-b8b0a992ecf6"
      },
      "execution_count": null,
      "outputs": [
        {
          "output_type": "execute_result",
          "data": {
            "text/plain": [
              "(3061,)"
            ]
          },
          "metadata": {},
          "execution_count": 56
        }
      ]
    },
    {
      "cell_type": "code",
      "source": [
        "import numpy as np"
      ],
      "metadata": {
        "id": "H5m8ERNBxW--"
      },
      "execution_count": null,
      "outputs": []
    },
    {
      "cell_type": "code",
      "source": [
        "from sklearn.model_selection import cross_val_score\n",
        "scores = cross_val_score(model,X_train,y_train, scoring=\"neg_mean_squared_error\",cv =9)\n",
        "rmse_scores = np.sqrt(-scores)\n"
      ],
      "metadata": {
        "id": "TXDRO_vDyJHm"
      },
      "execution_count": null,
      "outputs": []
    },
    {
      "cell_type": "code",
      "source": [
        "rmse_scores"
      ],
      "metadata": {
        "colab": {
          "base_uri": "https://localhost:8080/"
        },
        "id": "7vXKkk4NyO-n",
        "outputId": "bf185df0-762f-40c1-e0ef-cbcff7c0373d"
      },
      "execution_count": null,
      "outputs": [
        {
          "output_type": "execute_result",
          "data": {
            "text/plain": [
              "array([0.187924  , 0.20070724, 0.202638  , 0.17646613, 0.17192573,\n",
              "       0.19123034, 0.2074004 , 0.19941753, 0.18305516])"
            ]
          },
          "metadata": {},
          "execution_count": 60
        }
      ]
    },
    {
      "cell_type": "code",
      "source": [
        "rmse_scores.mean()"
      ],
      "metadata": {
        "colab": {
          "base_uri": "https://localhost:8080/"
        },
        "id": "JfBxaMkgyTSp",
        "outputId": "9ea606c0-7c83-43db-dabd-e943996a7ee3"
      },
      "execution_count": null,
      "outputs": [
        {
          "output_type": "execute_result",
          "data": {
            "text/plain": [
              "0.1911960590590549"
            ]
          },
          "metadata": {},
          "execution_count": 61
        }
      ]
    },
    {
      "cell_type": "code",
      "source": [
        "rmse_scores.std()"
      ],
      "metadata": {
        "colab": {
          "base_uri": "https://localhost:8080/"
        },
        "id": "d1p7t4qyyVCZ",
        "outputId": "bbd87901-5d70-410a-b963-36a699917aed"
      },
      "execution_count": null,
      "outputs": [
        {
          "output_type": "execute_result",
          "data": {
            "text/plain": [
              "0.01162780326358069"
            ]
          },
          "metadata": {},
          "execution_count": 62
        }
      ]
    },
    {
      "cell_type": "code",
      "source": [
        "import math\n",
        "import numpy as np\n",
        "housing_predictions = model.predict(X_train)\n",
        "MSE = np.square((np.subtract(y_train, housing_predictions))).mean()\n",
        "\n",
        "RMSE = math.sqrt(MSE)\n",
        "print(\"Mean Square Error:\\n\")\n",
        "print((MSE))"
      ],
      "metadata": {
        "colab": {
          "base_uri": "https://localhost:8080/"
        },
        "id": "OPMAAoHlylHs",
        "outputId": "0326bd39-d1dc-4987-d8ef-68cd50ac3790"
      },
      "execution_count": null,
      "outputs": [
        {
          "output_type": "stream",
          "name": "stdout",
          "text": [
            "Mean Square Error:\n",
            "\n",
            "0.005077758719268154\n"
          ]
        }
      ]
    },
    {
      "cell_type": "markdown",
      "source": [
        "OR"
      ],
      "metadata": {
        "id": "3g5UJgBIzjUg"
      }
    },
    {
      "cell_type": "code",
      "source": [
        "from sklearn.metrics import mean_squared_error\n",
        "Train_MSE = mean_squared_error(y_train,housing_predictions)\n",
        "print(Train_MSE)"
      ],
      "metadata": {
        "colab": {
          "base_uri": "https://localhost:8080/"
        },
        "id": "G7kMxGM-zIP3",
        "outputId": "3ffc6295-8ef1-4b75-a6e4-95ddffe22bad"
      },
      "execution_count": null,
      "outputs": [
        {
          "output_type": "stream",
          "name": "stdout",
          "text": [
            "0.005077758719268154\n"
          ]
        }
      ]
    },
    {
      "cell_type": "markdown",
      "source": [
        "Testing Phase:\n"
      ],
      "metadata": {
        "id": "ukeJq5I3yyqL"
      }
    },
    {
      "cell_type": "code",
      "source": [
        "from sklearn.metrics import mean_squared_error\n",
        "final_predictions  = model.predict(X_test)\n",
        "final_MSE = mean_squared_error(y_test, final_predictions)\n",
        "final_RMSE = np.sqrt(final_MSE)"
      ],
      "metadata": {
        "id": "lNElzq2gyXAH"
      },
      "execution_count": null,
      "outputs": []
    },
    {
      "cell_type": "code",
      "source": [
        "final_MSE"
      ],
      "metadata": {
        "colab": {
          "base_uri": "https://localhost:8080/"
        },
        "id": "6YlbUilBybcX",
        "outputId": "7864aba6-c34f-4442-b23c-2e2621c87e58"
      },
      "execution_count": null,
      "outputs": [
        {
          "output_type": "execute_result",
          "data": {
            "text/plain": [
              "0.038374126102580855"
            ]
          },
          "metadata": {},
          "execution_count": 64
        }
      ]
    },
    {
      "cell_type": "code",
      "source": [
        "from sklearn.metrics import r2_score\n",
        "print(\"R2 score : %.2f\" % r2_score(y_test,final_predictions))"
      ],
      "metadata": {
        "colab": {
          "base_uri": "https://localhost:8080/"
        },
        "id": "EOPi8TvMyfSG",
        "outputId": "ffe45f54-2719-4a48-ae9f-47a4a5ddb1ed"
      },
      "execution_count": null,
      "outputs": [
        {
          "output_type": "stream",
          "name": "stdout",
          "text": [
            "R2 score : 0.06\n"
          ]
        }
      ]
    },
    {
      "cell_type": "code",
      "source": [
        "subm.shape\n"
      ],
      "metadata": {
        "colab": {
          "base_uri": "https://localhost:8080/"
        },
        "id": "H9KPsgDwz3-W",
        "outputId": "e522ce25-be2f-4dd8-87bf-b1e8353461ef"
      },
      "execution_count": null,
      "outputs": [
        {
          "output_type": "execute_result",
          "data": {
            "text/plain": [
              "(10204, 2)"
            ]
          },
          "metadata": {},
          "execution_count": 72
        }
      ]
    },
    {
      "cell_type": "code",
      "source": [
        "final_predictions.shape"
      ],
      "metadata": {
        "colab": {
          "base_uri": "https://localhost:8080/"
        },
        "id": "TqSaaojj0IDN",
        "outputId": "fd994d93-1cde-4e13-dceb-12080e0f6b13"
      },
      "execution_count": null,
      "outputs": [
        {
          "output_type": "execute_result",
          "data": {
            "text/plain": [
              "(3061,)"
            ]
          },
          "metadata": {},
          "execution_count": 74
        }
      ]
    },
    {
      "cell_type": "code",
      "source": [
        "test.shape"
      ],
      "metadata": {
        "colab": {
          "base_uri": "https://localhost:8080/"
        },
        "id": "LZ9wbY820NPS",
        "outputId": "4cd6bcf4-d118-479d-c3c8-cc716492661e"
      },
      "execution_count": null,
      "outputs": [
        {
          "output_type": "execute_result",
          "data": {
            "text/plain": [
              "(10204, 11)"
            ]
          },
          "metadata": {},
          "execution_count": 75
        }
      ]
    },
    {
      "cell_type": "code",
      "source": [
        "one_data1 = pd.get_dummies(test, columns = ['gender', 'ever_married','work_type','Residence_type','smoking_status'])\n",
        "print(one_data1)"
      ],
      "metadata": {
        "id": "c5NCOKP_0vLW"
      },
      "execution_count": null,
      "outputs": []
    },
    {
      "cell_type": "code",
      "source": [
        "one_hot1 = one_data1.drop([\"gender_Female\",'gender_Other','id'],axis =1)"
      ],
      "metadata": {
        "id": "3JVp4oof1X--"
      },
      "execution_count": null,
      "outputs": []
    },
    {
      "cell_type": "code",
      "source": [
        "one_hot1"
      ],
      "metadata": {
        "colab": {
          "base_uri": "https://localhost:8080/",
          "height": 505
        },
        "id": "EgyMZSb81v4m",
        "outputId": "ebcdba0e-ffd7-491b-e7b6-af59573ced00"
      },
      "execution_count": null,
      "outputs": [
        {
          "output_type": "execute_result",
          "data": {
            "text/plain": [
              "        age  hypertension  heart_disease  avg_glucose_level   bmi  \\\n",
              "0      57.0             0              0              82.54  33.4   \n",
              "1      70.0             1              0              72.06  28.5   \n",
              "2       5.0             0              0             103.72  19.5   \n",
              "3      56.0             0              0              69.24  41.4   \n",
              "4      32.0             0              0             111.15  30.1   \n",
              "...     ...           ...            ...                ...   ...   \n",
              "10199  27.0             0              0              75.77  17.6   \n",
              "10200  49.0             0              0             102.91  26.7   \n",
              "10201   3.0             0              0             104.04  18.3   \n",
              "10202  31.0             0              0              82.41  28.7   \n",
              "10203   2.0             0              0              85.12  14.8   \n",
              "\n",
              "       gender_Male  ever_married_No  ever_married_Yes  work_type_Govt_job  \\\n",
              "0                0                0                 1                   0   \n",
              "1                1                0                 1                   0   \n",
              "2                0                1                 0                   0   \n",
              "3                0                0                 1                   1   \n",
              "4                1                0                 1                   0   \n",
              "...            ...              ...               ...                 ...   \n",
              "10199            0                1                 0                   0   \n",
              "10200            1                0                 1                   0   \n",
              "10201            0                1                 0                   0   \n",
              "10202            1                0                 1                   0   \n",
              "10203            0                1                 0                   0   \n",
              "\n",
              "       work_type_Never_worked  work_type_Private  work_type_Self-employed  \\\n",
              "0                           0                  1                        0   \n",
              "1                           0                  1                        0   \n",
              "2                           0                  0                        0   \n",
              "3                           0                  0                        0   \n",
              "4                           0                  1                        0   \n",
              "...                       ...                ...                      ...   \n",
              "10199                       0                  1                        0   \n",
              "10200                       0                  1                        0   \n",
              "10201                       0                  0                        0   \n",
              "10202                       0                  1                        0   \n",
              "10203                       0                  0                        0   \n",
              "\n",
              "       work_type_children  Residence_type_Rural  Residence_type_Urban  \\\n",
              "0                       0                     1                     0   \n",
              "1                       0                     0                     1   \n",
              "2                       1                     0                     1   \n",
              "3                       0                     0                     1   \n",
              "4                       0                     1                     0   \n",
              "...                   ...                   ...                   ...   \n",
              "10199                   0                     0                     1   \n",
              "10200                   0                     0                     1   \n",
              "10201                   1                     1                     0   \n",
              "10202                   0                     0                     1   \n",
              "10203                   1                     0                     1   \n",
              "\n",
              "       smoking_status_Unknown  smoking_status_formerly smoked  \\\n",
              "0                           1                               0   \n",
              "1                           1                               0   \n",
              "2                           1                               0   \n",
              "3                           0                               0   \n",
              "4                           0                               0   \n",
              "...                       ...                             ...   \n",
              "10199                       0                               0   \n",
              "10200                       1                               0   \n",
              "10201                       1                               0   \n",
              "10202                       0                               0   \n",
              "10203                       1                               0   \n",
              "\n",
              "       smoking_status_never smoked  smoking_status_smokes  \n",
              "0                                0                      0  \n",
              "1                                0                      0  \n",
              "2                                0                      0  \n",
              "3                                0                      1  \n",
              "4                                0                      1  \n",
              "...                            ...                    ...  \n",
              "10199                            1                      0  \n",
              "10200                            0                      0  \n",
              "10201                            0                      0  \n",
              "10202                            1                      0  \n",
              "10203                            0                      0  \n",
              "\n",
              "[10204 rows x 19 columns]"
            ],
            "text/html": [
              "\n",
              "  <div id=\"df-8d73f093-a9a4-412d-abde-4045ef8d12a0\">\n",
              "    <div class=\"colab-df-container\">\n",
              "      <div>\n",
              "<style scoped>\n",
              "    .dataframe tbody tr th:only-of-type {\n",
              "        vertical-align: middle;\n",
              "    }\n",
              "\n",
              "    .dataframe tbody tr th {\n",
              "        vertical-align: top;\n",
              "    }\n",
              "\n",
              "    .dataframe thead th {\n",
              "        text-align: right;\n",
              "    }\n",
              "</style>\n",
              "<table border=\"1\" class=\"dataframe\">\n",
              "  <thead>\n",
              "    <tr style=\"text-align: right;\">\n",
              "      <th></th>\n",
              "      <th>age</th>\n",
              "      <th>hypertension</th>\n",
              "      <th>heart_disease</th>\n",
              "      <th>avg_glucose_level</th>\n",
              "      <th>bmi</th>\n",
              "      <th>gender_Male</th>\n",
              "      <th>ever_married_No</th>\n",
              "      <th>ever_married_Yes</th>\n",
              "      <th>work_type_Govt_job</th>\n",
              "      <th>work_type_Never_worked</th>\n",
              "      <th>work_type_Private</th>\n",
              "      <th>work_type_Self-employed</th>\n",
              "      <th>work_type_children</th>\n",
              "      <th>Residence_type_Rural</th>\n",
              "      <th>Residence_type_Urban</th>\n",
              "      <th>smoking_status_Unknown</th>\n",
              "      <th>smoking_status_formerly smoked</th>\n",
              "      <th>smoking_status_never smoked</th>\n",
              "      <th>smoking_status_smokes</th>\n",
              "    </tr>\n",
              "  </thead>\n",
              "  <tbody>\n",
              "    <tr>\n",
              "      <th>0</th>\n",
              "      <td>57.0</td>\n",
              "      <td>0</td>\n",
              "      <td>0</td>\n",
              "      <td>82.54</td>\n",
              "      <td>33.4</td>\n",
              "      <td>0</td>\n",
              "      <td>0</td>\n",
              "      <td>1</td>\n",
              "      <td>0</td>\n",
              "      <td>0</td>\n",
              "      <td>1</td>\n",
              "      <td>0</td>\n",
              "      <td>0</td>\n",
              "      <td>1</td>\n",
              "      <td>0</td>\n",
              "      <td>1</td>\n",
              "      <td>0</td>\n",
              "      <td>0</td>\n",
              "      <td>0</td>\n",
              "    </tr>\n",
              "    <tr>\n",
              "      <th>1</th>\n",
              "      <td>70.0</td>\n",
              "      <td>1</td>\n",
              "      <td>0</td>\n",
              "      <td>72.06</td>\n",
              "      <td>28.5</td>\n",
              "      <td>1</td>\n",
              "      <td>0</td>\n",
              "      <td>1</td>\n",
              "      <td>0</td>\n",
              "      <td>0</td>\n",
              "      <td>1</td>\n",
              "      <td>0</td>\n",
              "      <td>0</td>\n",
              "      <td>0</td>\n",
              "      <td>1</td>\n",
              "      <td>1</td>\n",
              "      <td>0</td>\n",
              "      <td>0</td>\n",
              "      <td>0</td>\n",
              "    </tr>\n",
              "    <tr>\n",
              "      <th>2</th>\n",
              "      <td>5.0</td>\n",
              "      <td>0</td>\n",
              "      <td>0</td>\n",
              "      <td>103.72</td>\n",
              "      <td>19.5</td>\n",
              "      <td>0</td>\n",
              "      <td>1</td>\n",
              "      <td>0</td>\n",
              "      <td>0</td>\n",
              "      <td>0</td>\n",
              "      <td>0</td>\n",
              "      <td>0</td>\n",
              "      <td>1</td>\n",
              "      <td>0</td>\n",
              "      <td>1</td>\n",
              "      <td>1</td>\n",
              "      <td>0</td>\n",
              "      <td>0</td>\n",
              "      <td>0</td>\n",
              "    </tr>\n",
              "    <tr>\n",
              "      <th>3</th>\n",
              "      <td>56.0</td>\n",
              "      <td>0</td>\n",
              "      <td>0</td>\n",
              "      <td>69.24</td>\n",
              "      <td>41.4</td>\n",
              "      <td>0</td>\n",
              "      <td>0</td>\n",
              "      <td>1</td>\n",
              "      <td>1</td>\n",
              "      <td>0</td>\n",
              "      <td>0</td>\n",
              "      <td>0</td>\n",
              "      <td>0</td>\n",
              "      <td>0</td>\n",
              "      <td>1</td>\n",
              "      <td>0</td>\n",
              "      <td>0</td>\n",
              "      <td>0</td>\n",
              "      <td>1</td>\n",
              "    </tr>\n",
              "    <tr>\n",
              "      <th>4</th>\n",
              "      <td>32.0</td>\n",
              "      <td>0</td>\n",
              "      <td>0</td>\n",
              "      <td>111.15</td>\n",
              "      <td>30.1</td>\n",
              "      <td>1</td>\n",
              "      <td>0</td>\n",
              "      <td>1</td>\n",
              "      <td>0</td>\n",
              "      <td>0</td>\n",
              "      <td>1</td>\n",
              "      <td>0</td>\n",
              "      <td>0</td>\n",
              "      <td>1</td>\n",
              "      <td>0</td>\n",
              "      <td>0</td>\n",
              "      <td>0</td>\n",
              "      <td>0</td>\n",
              "      <td>1</td>\n",
              "    </tr>\n",
              "    <tr>\n",
              "      <th>...</th>\n",
              "      <td>...</td>\n",
              "      <td>...</td>\n",
              "      <td>...</td>\n",
              "      <td>...</td>\n",
              "      <td>...</td>\n",
              "      <td>...</td>\n",
              "      <td>...</td>\n",
              "      <td>...</td>\n",
              "      <td>...</td>\n",
              "      <td>...</td>\n",
              "      <td>...</td>\n",
              "      <td>...</td>\n",
              "      <td>...</td>\n",
              "      <td>...</td>\n",
              "      <td>...</td>\n",
              "      <td>...</td>\n",
              "      <td>...</td>\n",
              "      <td>...</td>\n",
              "      <td>...</td>\n",
              "    </tr>\n",
              "    <tr>\n",
              "      <th>10199</th>\n",
              "      <td>27.0</td>\n",
              "      <td>0</td>\n",
              "      <td>0</td>\n",
              "      <td>75.77</td>\n",
              "      <td>17.6</td>\n",
              "      <td>0</td>\n",
              "      <td>1</td>\n",
              "      <td>0</td>\n",
              "      <td>0</td>\n",
              "      <td>0</td>\n",
              "      <td>1</td>\n",
              "      <td>0</td>\n",
              "      <td>0</td>\n",
              "      <td>0</td>\n",
              "      <td>1</td>\n",
              "      <td>0</td>\n",
              "      <td>0</td>\n",
              "      <td>1</td>\n",
              "      <td>0</td>\n",
              "    </tr>\n",
              "    <tr>\n",
              "      <th>10200</th>\n",
              "      <td>49.0</td>\n",
              "      <td>0</td>\n",
              "      <td>0</td>\n",
              "      <td>102.91</td>\n",
              "      <td>26.7</td>\n",
              "      <td>1</td>\n",
              "      <td>0</td>\n",
              "      <td>1</td>\n",
              "      <td>0</td>\n",
              "      <td>0</td>\n",
              "      <td>1</td>\n",
              "      <td>0</td>\n",
              "      <td>0</td>\n",
              "      <td>0</td>\n",
              "      <td>1</td>\n",
              "      <td>1</td>\n",
              "      <td>0</td>\n",
              "      <td>0</td>\n",
              "      <td>0</td>\n",
              "    </tr>\n",
              "    <tr>\n",
              "      <th>10201</th>\n",
              "      <td>3.0</td>\n",
              "      <td>0</td>\n",
              "      <td>0</td>\n",
              "      <td>104.04</td>\n",
              "      <td>18.3</td>\n",
              "      <td>0</td>\n",
              "      <td>1</td>\n",
              "      <td>0</td>\n",
              "      <td>0</td>\n",
              "      <td>0</td>\n",
              "      <td>0</td>\n",
              "      <td>0</td>\n",
              "      <td>1</td>\n",
              "      <td>1</td>\n",
              "      <td>0</td>\n",
              "      <td>1</td>\n",
              "      <td>0</td>\n",
              "      <td>0</td>\n",
              "      <td>0</td>\n",
              "    </tr>\n",
              "    <tr>\n",
              "      <th>10202</th>\n",
              "      <td>31.0</td>\n",
              "      <td>0</td>\n",
              "      <td>0</td>\n",
              "      <td>82.41</td>\n",
              "      <td>28.7</td>\n",
              "      <td>1</td>\n",
              "      <td>0</td>\n",
              "      <td>1</td>\n",
              "      <td>0</td>\n",
              "      <td>0</td>\n",
              "      <td>1</td>\n",
              "      <td>0</td>\n",
              "      <td>0</td>\n",
              "      <td>0</td>\n",
              "      <td>1</td>\n",
              "      <td>0</td>\n",
              "      <td>0</td>\n",
              "      <td>1</td>\n",
              "      <td>0</td>\n",
              "    </tr>\n",
              "    <tr>\n",
              "      <th>10203</th>\n",
              "      <td>2.0</td>\n",
              "      <td>0</td>\n",
              "      <td>0</td>\n",
              "      <td>85.12</td>\n",
              "      <td>14.8</td>\n",
              "      <td>0</td>\n",
              "      <td>1</td>\n",
              "      <td>0</td>\n",
              "      <td>0</td>\n",
              "      <td>0</td>\n",
              "      <td>0</td>\n",
              "      <td>0</td>\n",
              "      <td>1</td>\n",
              "      <td>0</td>\n",
              "      <td>1</td>\n",
              "      <td>1</td>\n",
              "      <td>0</td>\n",
              "      <td>0</td>\n",
              "      <td>0</td>\n",
              "    </tr>\n",
              "  </tbody>\n",
              "</table>\n",
              "<p>10204 rows × 19 columns</p>\n",
              "</div>\n",
              "      <button class=\"colab-df-convert\" onclick=\"convertToInteractive('df-8d73f093-a9a4-412d-abde-4045ef8d12a0')\"\n",
              "              title=\"Convert this dataframe to an interactive table.\"\n",
              "              style=\"display:none;\">\n",
              "        \n",
              "  <svg xmlns=\"http://www.w3.org/2000/svg\" height=\"24px\"viewBox=\"0 0 24 24\"\n",
              "       width=\"24px\">\n",
              "    <path d=\"M0 0h24v24H0V0z\" fill=\"none\"/>\n",
              "    <path d=\"M18.56 5.44l.94 2.06.94-2.06 2.06-.94-2.06-.94-.94-2.06-.94 2.06-2.06.94zm-11 1L8.5 8.5l.94-2.06 2.06-.94-2.06-.94L8.5 2.5l-.94 2.06-2.06.94zm10 10l.94 2.06.94-2.06 2.06-.94-2.06-.94-.94-2.06-.94 2.06-2.06.94z\"/><path d=\"M17.41 7.96l-1.37-1.37c-.4-.4-.92-.59-1.43-.59-.52 0-1.04.2-1.43.59L10.3 9.45l-7.72 7.72c-.78.78-.78 2.05 0 2.83L4 21.41c.39.39.9.59 1.41.59.51 0 1.02-.2 1.41-.59l7.78-7.78 2.81-2.81c.8-.78.8-2.07 0-2.86zM5.41 20L4 18.59l7.72-7.72 1.47 1.35L5.41 20z\"/>\n",
              "  </svg>\n",
              "      </button>\n",
              "      \n",
              "  <style>\n",
              "    .colab-df-container {\n",
              "      display:flex;\n",
              "      flex-wrap:wrap;\n",
              "      gap: 12px;\n",
              "    }\n",
              "\n",
              "    .colab-df-convert {\n",
              "      background-color: #E8F0FE;\n",
              "      border: none;\n",
              "      border-radius: 50%;\n",
              "      cursor: pointer;\n",
              "      display: none;\n",
              "      fill: #1967D2;\n",
              "      height: 32px;\n",
              "      padding: 0 0 0 0;\n",
              "      width: 32px;\n",
              "    }\n",
              "\n",
              "    .colab-df-convert:hover {\n",
              "      background-color: #E2EBFA;\n",
              "      box-shadow: 0px 1px 2px rgba(60, 64, 67, 0.3), 0px 1px 3px 1px rgba(60, 64, 67, 0.15);\n",
              "      fill: #174EA6;\n",
              "    }\n",
              "\n",
              "    [theme=dark] .colab-df-convert {\n",
              "      background-color: #3B4455;\n",
              "      fill: #D2E3FC;\n",
              "    }\n",
              "\n",
              "    [theme=dark] .colab-df-convert:hover {\n",
              "      background-color: #434B5C;\n",
              "      box-shadow: 0px 1px 3px 1px rgba(0, 0, 0, 0.15);\n",
              "      filter: drop-shadow(0px 1px 2px rgba(0, 0, 0, 0.3));\n",
              "      fill: #FFFFFF;\n",
              "    }\n",
              "  </style>\n",
              "\n",
              "      <script>\n",
              "        const buttonEl =\n",
              "          document.querySelector('#df-8d73f093-a9a4-412d-abde-4045ef8d12a0 button.colab-df-convert');\n",
              "        buttonEl.style.display =\n",
              "          google.colab.kernel.accessAllowed ? 'block' : 'none';\n",
              "\n",
              "        async function convertToInteractive(key) {\n",
              "          const element = document.querySelector('#df-8d73f093-a9a4-412d-abde-4045ef8d12a0');\n",
              "          const dataTable =\n",
              "            await google.colab.kernel.invokeFunction('convertToInteractive',\n",
              "                                                     [key], {});\n",
              "          if (!dataTable) return;\n",
              "\n",
              "          const docLinkHtml = 'Like what you see? Visit the ' +\n",
              "            '<a target=\"_blank\" href=https://colab.research.google.com/notebooks/data_table.ipynb>data table notebook</a>'\n",
              "            + ' to learn more about interactive tables.';\n",
              "          element.innerHTML = '';\n",
              "          dataTable['output_type'] = 'display_data';\n",
              "          await google.colab.output.renderOutput(dataTable, element);\n",
              "          const docLink = document.createElement('div');\n",
              "          docLink.innerHTML = docLinkHtml;\n",
              "          element.appendChild(docLink);\n",
              "        }\n",
              "      </script>\n",
              "    </div>\n",
              "  </div>\n",
              "  "
            ]
          },
          "metadata": {},
          "execution_count": 80
        }
      ]
    },
    {
      "cell_type": "code",
      "source": [
        "predic = model.predict(one_hot1)"
      ],
      "metadata": {
        "id": "-5l_tRKd2CMW"
      },
      "execution_count": null,
      "outputs": []
    },
    {
      "cell_type": "code",
      "source": [
        "predic.shape"
      ],
      "metadata": {
        "colab": {
          "base_uri": "https://localhost:8080/"
        },
        "id": "yFm9Dqx92MR-",
        "outputId": "2bf6abfd-533f-40b7-d349-fbaedfd6cf8f"
      },
      "execution_count": null,
      "outputs": [
        {
          "output_type": "execute_result",
          "data": {
            "text/plain": [
              "(10204,)"
            ]
          },
          "metadata": {},
          "execution_count": 83
        }
      ]
    },
    {
      "cell_type": "code",
      "source": [
        "subm.shape"
      ],
      "metadata": {
        "colab": {
          "base_uri": "https://localhost:8080/"
        },
        "id": "IXAA0DX12Sve",
        "outputId": "07c9a97b-efa6-47e5-9387-dc6481a04d4f"
      },
      "execution_count": null,
      "outputs": [
        {
          "output_type": "execute_result",
          "data": {
            "text/plain": [
              "(10204, 2)"
            ]
          },
          "metadata": {},
          "execution_count": 84
        }
      ]
    },
    {
      "cell_type": "code",
      "source": [
        "subm['stroke'] = predic\n",
        "subm.to_csv(\"/content/drive/MyDrive/Kaggle_1/playground-series-s3e2/submission1_0.csv\", index=False)"
      ],
      "metadata": {
        "id": "j6Edbcai2eM3"
      },
      "execution_count": null,
      "outputs": []
    },
    {
      "cell_type": "markdown",
      "source": [
        "## LAsso"
      ],
      "metadata": {
        "id": "1_0UHy6p51v2"
      }
    },
    {
      "cell_type": "code",
      "source": [
        "from sklearn.linear_model import LassoCV"
      ],
      "metadata": {
        "id": "mtKBn1Ea54mu"
      },
      "execution_count": null,
      "outputs": []
    },
    {
      "cell_type": "code",
      "source": [
        "lasso_cv = LassoCV(cv=9)\n",
        "#\n",
        "# Fit the Lasso model\n",
        "#\n",
        "lasso_cv.fit(X_train,y_train)\n",
        "#\n",
        "# Create the model score\n",
        "#"
      ],
      "metadata": {
        "colab": {
          "base_uri": "https://localhost:8080/"
        },
        "id": "OYdHc-Vq6Tqd",
        "outputId": "9d527227-fbd5-40a1-d8af-b18d70dec8d1"
      },
      "execution_count": null,
      "outputs": [
        {
          "output_type": "execute_result",
          "data": {
            "text/plain": [
              "LassoCV(cv=9)"
            ]
          },
          "metadata": {},
          "execution_count": 104
        }
      ]
    },
    {
      "cell_type": "code",
      "source": [
        "lasso_cv.score(X_test, y_test), lasso_cv.score(X_train, y_train)"
      ],
      "metadata": {
        "colab": {
          "base_uri": "https://localhost:8080/"
        },
        "id": "EoYgxGHz7lk7",
        "outputId": "2cb0ca87-e792-4d7b-cc15-17f78f800900"
      },
      "execution_count": null,
      "outputs": [
        {
          "output_type": "execute_result",
          "data": {
            "text/plain": [
              "(0.11206086357397349, 0.10251671638667093)"
            ]
          },
          "metadata": {},
          "execution_count": 105
        }
      ]
    },
    {
      "cell_type": "code",
      "source": [
        "from sklearn.metrics import mean_squared_error\n",
        "final_predictions  = lasso_cv.predict(X_test)\n",
        "final_MSE = mean_squared_error(y_test, final_predictions)\n",
        "final_RMSE = np.sqrt(final_MSE)"
      ],
      "metadata": {
        "id": "t3eYltD56Z_M"
      },
      "execution_count": null,
      "outputs": []
    },
    {
      "cell_type": "code",
      "source": [
        "final_MSE"
      ],
      "metadata": {
        "colab": {
          "base_uri": "https://localhost:8080/"
        },
        "id": "pOsXEsvP7R6d",
        "outputId": "ec00cd0a-36c2-484e-b2c9-8b1d5b7c4241"
      },
      "execution_count": null,
      "outputs": [
        {
          "output_type": "execute_result",
          "data": {
            "text/plain": [
              "0.036109020658396225"
            ]
          },
          "metadata": {},
          "execution_count": 107
        }
      ]
    },
    {
      "cell_type": "code",
      "source": [
        "from sklearn.metrics import r2_score\n",
        "print(\"R2 score : %.2f\" % r2_score(y_test,final_predictions))"
      ],
      "metadata": {
        "colab": {
          "base_uri": "https://localhost:8080/"
        },
        "id": "3KsS2slo7T08",
        "outputId": "a27635c0-8c62-4c54-e7fe-29f53a774c92"
      },
      "execution_count": null,
      "outputs": [
        {
          "output_type": "stream",
          "name": "stdout",
          "text": [
            "R2 score : 0.11\n"
          ]
        }
      ]
    },
    {
      "cell_type": "code",
      "source": [
        "predic = lasso_cv.predict(one_hot1)"
      ],
      "metadata": {
        "id": "5oFsqXNT8KfW"
      },
      "execution_count": null,
      "outputs": []
    },
    {
      "cell_type": "code",
      "source": [
        "subm['stroke'] = predic\n",
        "subm.to_csv(\"/content/drive/MyDrive/Kaggle_1/playground-series-s3e2/submission_lasso.csv\", index=False)"
      ],
      "metadata": {
        "id": "7Y5oFHwU7aWv"
      },
      "execution_count": null,
      "outputs": []
    },
    {
      "cell_type": "code",
      "source": [],
      "metadata": {
        "id": "iJ6sYOoy8Tkk"
      },
      "execution_count": null,
      "outputs": []
    },
    {
      "cell_type": "markdown",
      "source": [
        "### Catboost"
      ],
      "metadata": {
        "id": "BARc_e3Q-CB4"
      }
    },
    {
      "cell_type": "code",
      "source": [
        "pip install catboost"
      ],
      "metadata": {
        "colab": {
          "base_uri": "https://localhost:8080/"
        },
        "id": "tcLIbVU9-J_9",
        "outputId": "6ef419b0-f98c-4654-9a30-56d09814befa"
      },
      "execution_count": null,
      "outputs": [
        {
          "output_type": "stream",
          "name": "stdout",
          "text": [
            "Looking in indexes: https://pypi.org/simple, https://us-python.pkg.dev/colab-wheels/public/simple/\n",
            "Collecting catboost\n",
            "  Downloading catboost-1.1.1-cp38-none-manylinux1_x86_64.whl (76.6 MB)\n",
            "\u001b[2K     \u001b[90m━━━━━━━━━━━━━━━━━━━━━━━━━━━━━━━━━━━━━━━━\u001b[0m \u001b[32m76.6/76.6 MB\u001b[0m \u001b[31m9.0 MB/s\u001b[0m eta \u001b[36m0:00:00\u001b[0m\n",
            "\u001b[?25hRequirement already satisfied: pandas>=0.24.0 in /usr/local/lib/python3.8/dist-packages (from catboost) (1.3.5)\n",
            "Requirement already satisfied: matplotlib in /usr/local/lib/python3.8/dist-packages (from catboost) (3.2.2)\n",
            "Requirement already satisfied: numpy>=1.16.0 in /usr/local/lib/python3.8/dist-packages (from catboost) (1.21.6)\n",
            "Requirement already satisfied: plotly in /usr/local/lib/python3.8/dist-packages (from catboost) (5.5.0)\n",
            "Requirement already satisfied: scipy in /usr/local/lib/python3.8/dist-packages (from catboost) (1.7.3)\n",
            "Requirement already satisfied: six in /usr/local/lib/python3.8/dist-packages (from catboost) (1.15.0)\n",
            "Requirement already satisfied: graphviz in /usr/local/lib/python3.8/dist-packages (from catboost) (0.10.1)\n",
            "Requirement already satisfied: pytz>=2017.3 in /usr/local/lib/python3.8/dist-packages (from pandas>=0.24.0->catboost) (2022.7)\n",
            "Requirement already satisfied: python-dateutil>=2.7.3 in /usr/local/lib/python3.8/dist-packages (from pandas>=0.24.0->catboost) (2.8.2)\n",
            "Requirement already satisfied: cycler>=0.10 in /usr/local/lib/python3.8/dist-packages (from matplotlib->catboost) (0.11.0)\n",
            "Requirement already satisfied: kiwisolver>=1.0.1 in /usr/local/lib/python3.8/dist-packages (from matplotlib->catboost) (1.4.4)\n",
            "Requirement already satisfied: pyparsing!=2.0.4,!=2.1.2,!=2.1.6,>=2.0.1 in /usr/local/lib/python3.8/dist-packages (from matplotlib->catboost) (3.0.9)\n",
            "Requirement already satisfied: tenacity>=6.2.0 in /usr/local/lib/python3.8/dist-packages (from plotly->catboost) (8.1.0)\n",
            "Installing collected packages: catboost\n",
            "Successfully installed catboost-1.1.1\n"
          ]
        }
      ]
    },
    {
      "cell_type": "code",
      "source": [
        "from catboost import CatBoostRegressor\n"
      ],
      "metadata": {
        "id": "hH8RVoHS-GAC"
      },
      "execution_count": null,
      "outputs": []
    },
    {
      "cell_type": "code",
      "source": [
        "model1 = CatBoostRegressor(loss_function=\"RMSE\")"
      ],
      "metadata": {
        "id": "L8mBv6_m-HR0"
      },
      "execution_count": null,
      "outputs": []
    },
    {
      "cell_type": "code",
      "source": [
        "import catboost as cb"
      ],
      "metadata": {
        "id": "vvtYKb77-7Cv"
      },
      "execution_count": null,
      "outputs": []
    },
    {
      "cell_type": "code",
      "source": [
        "train_dataset = cb.Pool(X_train, y_train) \n",
        "test_dataset = cb.Pool(X_test, y_test)"
      ],
      "metadata": {
        "id": "zsL6nFBp-4dx"
      },
      "execution_count": null,
      "outputs": []
    },
    {
      "cell_type": "code",
      "source": [
        "grid = {'iterations': [100, 150, 200],\n",
        "        'learning_rate': [0.03, 0.1],\n",
        "        'depth': [2, 4, 6, 8],\n",
        "        'l2_leaf_reg': [0.2, 0.5, 1, 3]}\n",
        "model1.grid_search(grid, train_dataset)"
      ],
      "metadata": {
        "id": "OWhcWB9X-e_r"
      },
      "execution_count": null,
      "outputs": []
    },
    {
      "cell_type": "code",
      "source": [
        "pred = model1.predict(X_test)\n",
        "rmse = (np.sqrt(mean_squared_error(y_test, pred)))\n",
        "r2 = r2_score(y_test, pred)\n",
        "print(\"Testing performance\")\n",
        "print(\"RMSE: {:.2f}\".format(rmse))\n",
        "print(\"R2: {:.2f}\".format(r2))"
      ],
      "metadata": {
        "colab": {
          "base_uri": "https://localhost:8080/"
        },
        "id": "QIazVPB7_L7s",
        "outputId": "3e57aa65-9e31-44a1-e640-bd563055907d"
      },
      "execution_count": null,
      "outputs": [
        {
          "output_type": "stream",
          "name": "stdout",
          "text": [
            "Testing performance\n",
            "RMSE: 0.19\n",
            "R2: 0.12\n"
          ]
        }
      ]
    },
    {
      "cell_type": "code",
      "source": [
        "pred.shape"
      ],
      "metadata": {
        "colab": {
          "base_uri": "https://localhost:8080/"
        },
        "id": "AoG_sEQC_p2M",
        "outputId": "850a72af-7b73-4298-93b4-193c270952f0"
      },
      "execution_count": null,
      "outputs": [
        {
          "output_type": "execute_result",
          "data": {
            "text/plain": [
              "(3061,)"
            ]
          },
          "metadata": {},
          "execution_count": 121
        }
      ]
    },
    {
      "cell_type": "code",
      "source": [
        "predic1 = model1.predict(one_hot1)"
      ],
      "metadata": {
        "id": "9YzKmt_8_v_k"
      },
      "execution_count": null,
      "outputs": []
    },
    {
      "cell_type": "code",
      "source": [
        "subm['stroke'] = predic1\n",
        "subm.to_csv(\"/content/drive/MyDrive/Kaggle_1/playground-series-s3e2/submission_catboost.csv\", index=False)"
      ],
      "metadata": {
        "id": "DQib8OPXAGe5"
      },
      "execution_count": null,
      "outputs": []
    },
    {
      "cell_type": "markdown",
      "source": [
        "## Neural Networks."
      ],
      "metadata": {
        "id": "wv2J13mnA02V"
      }
    },
    {
      "cell_type": "code",
      "source": [
        "# importing the libraries\n",
        "from keras.models import Sequential\n",
        "from keras.layers import Dense\n",
        "\n",
        "# create ANN model\n",
        "model = Sequential()\n",
        "\n",
        "# Defining the Input layer and FIRST hidden layer, both are same!\n",
        "model.add(Dense(units=5, input_dim=19, kernel_initializer='normal', activation='relu'))\n",
        "\n",
        "# Defining the Second layer of the model\n",
        "# after the first layer we don't have to specify input_dim as keras configure it automatically\n",
        "model.add(Dense(units=5, kernel_initializer='normal', activation='tanh'))\n",
        "\n",
        "# The output neuron is a single fully connected node \n",
        "# Since we will be predicting a single number\n",
        "model.add(Dense(1, kernel_initializer='normal'))\n",
        "\n",
        "# Compiling the model\n",
        "model.compile(loss='mean_squared_error', optimizer='adam')\n",
        "\n",
        "# Fitting the ANN to the Training set\n",
        "model.fit(X_train, y_train ,batch_size = 20, epochs = 50, verbose=1)"
      ],
      "metadata": {
        "colab": {
          "base_uri": "https://localhost:8080/"
        },
        "id": "azO4gSWCAYPS",
        "outputId": "bf392e52-cacf-4d01-9881-53a8e3f47b7d"
      },
      "execution_count": null,
      "outputs": [
        {
          "output_type": "stream",
          "name": "stdout",
          "text": [
            "Epoch 1/50\n",
            "613/613 [==============================] - 2s 2ms/step - loss: 0.0376\n",
            "Epoch 2/50\n",
            "613/613 [==============================] - 1s 2ms/step - loss: 0.0361\n",
            "Epoch 3/50\n",
            "613/613 [==============================] - 1s 2ms/step - loss: 0.0359\n",
            "Epoch 4/50\n",
            "613/613 [==============================] - 1s 2ms/step - loss: 0.0357\n",
            "Epoch 5/50\n",
            "613/613 [==============================] - 1s 2ms/step - loss: 0.0356\n",
            "Epoch 6/50\n",
            "613/613 [==============================] - 1s 2ms/step - loss: 0.0354\n",
            "Epoch 7/50\n",
            "613/613 [==============================] - 1s 2ms/step - loss: 0.0355\n",
            "Epoch 8/50\n",
            "613/613 [==============================] - 1s 2ms/step - loss: 0.0354\n",
            "Epoch 9/50\n",
            "613/613 [==============================] - 1s 2ms/step - loss: 0.0353\n",
            "Epoch 10/50\n",
            "613/613 [==============================] - 1s 2ms/step - loss: 0.0352\n",
            "Epoch 11/50\n",
            "613/613 [==============================] - 1s 2ms/step - loss: 0.0352\n",
            "Epoch 12/50\n",
            "613/613 [==============================] - 1s 2ms/step - loss: 0.0352\n",
            "Epoch 13/50\n",
            "613/613 [==============================] - 1s 2ms/step - loss: 0.0352\n",
            "Epoch 14/50\n",
            "613/613 [==============================] - 1s 2ms/step - loss: 0.0350\n",
            "Epoch 15/50\n",
            "613/613 [==============================] - 1s 2ms/step - loss: 0.0351\n",
            "Epoch 16/50\n",
            "613/613 [==============================] - 1s 2ms/step - loss: 0.0353\n",
            "Epoch 17/50\n",
            "613/613 [==============================] - 1s 2ms/step - loss: 0.0352\n",
            "Epoch 18/50\n",
            "613/613 [==============================] - 1s 2ms/step - loss: 0.0352\n",
            "Epoch 19/50\n",
            "613/613 [==============================] - 1s 2ms/step - loss: 0.0351\n",
            "Epoch 20/50\n",
            "613/613 [==============================] - 1s 2ms/step - loss: 0.0350\n",
            "Epoch 21/50\n",
            "613/613 [==============================] - 1s 2ms/step - loss: 0.0351\n",
            "Epoch 22/50\n",
            "613/613 [==============================] - 1s 2ms/step - loss: 0.0350\n",
            "Epoch 23/50\n",
            "613/613 [==============================] - 1s 2ms/step - loss: 0.0349\n",
            "Epoch 24/50\n",
            "613/613 [==============================] - 1s 2ms/step - loss: 0.0351\n",
            "Epoch 25/50\n",
            "613/613 [==============================] - 1s 2ms/step - loss: 0.0351\n",
            "Epoch 26/50\n",
            "613/613 [==============================] - 1s 2ms/step - loss: 0.0350\n",
            "Epoch 27/50\n",
            "613/613 [==============================] - 1s 2ms/step - loss: 0.0351\n",
            "Epoch 28/50\n",
            "613/613 [==============================] - 1s 2ms/step - loss: 0.0350\n",
            "Epoch 29/50\n",
            "613/613 [==============================] - 1s 2ms/step - loss: 0.0348\n",
            "Epoch 30/50\n",
            "613/613 [==============================] - 1s 2ms/step - loss: 0.0349\n",
            "Epoch 31/50\n",
            "613/613 [==============================] - 1s 2ms/step - loss: 0.0350\n",
            "Epoch 32/50\n",
            "613/613 [==============================] - 1s 2ms/step - loss: 0.0349\n",
            "Epoch 33/50\n",
            "613/613 [==============================] - 1s 2ms/step - loss: 0.0350\n",
            "Epoch 34/50\n",
            "613/613 [==============================] - 1s 2ms/step - loss: 0.0349\n",
            "Epoch 35/50\n",
            "613/613 [==============================] - 1s 2ms/step - loss: 0.0349\n",
            "Epoch 36/50\n",
            "613/613 [==============================] - 1s 2ms/step - loss: 0.0349\n",
            "Epoch 37/50\n",
            "613/613 [==============================] - 1s 2ms/step - loss: 0.0349\n",
            "Epoch 38/50\n",
            "613/613 [==============================] - 1s 2ms/step - loss: 0.0351\n",
            "Epoch 39/50\n",
            "613/613 [==============================] - 1s 2ms/step - loss: 0.0348\n",
            "Epoch 40/50\n",
            "613/613 [==============================] - 1s 2ms/step - loss: 0.0349\n",
            "Epoch 41/50\n",
            "613/613 [==============================] - 1s 2ms/step - loss: 0.0348\n",
            "Epoch 42/50\n",
            "613/613 [==============================] - 1s 2ms/step - loss: 0.0349\n",
            "Epoch 43/50\n",
            "613/613 [==============================] - 1s 2ms/step - loss: 0.0348\n",
            "Epoch 44/50\n",
            "613/613 [==============================] - 1s 2ms/step - loss: 0.0348\n",
            "Epoch 45/50\n",
            "613/613 [==============================] - 1s 2ms/step - loss: 0.0349\n",
            "Epoch 46/50\n",
            "613/613 [==============================] - 1s 2ms/step - loss: 0.0347\n",
            "Epoch 47/50\n",
            "613/613 [==============================] - 1s 2ms/step - loss: 0.0348\n",
            "Epoch 48/50\n",
            "613/613 [==============================] - 1s 2ms/step - loss: 0.0350\n",
            "Epoch 49/50\n",
            "613/613 [==============================] - 1s 2ms/step - loss: 0.0348\n",
            "Epoch 50/50\n",
            "613/613 [==============================] - 1s 2ms/step - loss: 0.0349\n"
          ]
        },
        {
          "output_type": "execute_result",
          "data": {
            "text/plain": [
              "<keras.callbacks.History at 0x7fef821e1880>"
            ]
          },
          "metadata": {},
          "execution_count": 127
        }
      ]
    },
    {
      "cell_type": "code",
      "source": [
        "# Fitting the ANN to the Training set\n",
        "model.fit(X_train, y_train ,batch_size = 15, epochs = 5, verbose=0)\n",
        "\n",
        "# Generating Predictions on testing data\n",
        "Predictions=model.predict(X_test)\n"
      ],
      "metadata": {
        "colab": {
          "base_uri": "https://localhost:8080/"
        },
        "id": "DtmmGLhbBA9o",
        "outputId": "dc2bb31c-8815-4c17-b4c2-6f8d409f86d3"
      },
      "execution_count": null,
      "outputs": [
        {
          "output_type": "stream",
          "name": "stdout",
          "text": [
            "96/96 [==============================] - 0s 1ms/step\n"
          ]
        }
      ]
    },
    {
      "cell_type": "code",
      "source": [
        "pred = model.predict(X_test)\n",
        "rmse = (np.sqrt(mean_squared_error(y_test, pred)))\n",
        "r2 = r2_score(y_test, pred)\n",
        "print(\"Testing performance\")\n",
        "print(\"RMSE: {:.2f}\".format(rmse))\n",
        "print(\"R2: {:.2f}\".format(r2))"
      ],
      "metadata": {
        "colab": {
          "base_uri": "https://localhost:8080/"
        },
        "id": "OT_QzY2sDaZT",
        "outputId": "0e777bb4-c120-41e6-fcfa-12ef75a03f98"
      },
      "execution_count": null,
      "outputs": [
        {
          "output_type": "stream",
          "name": "stdout",
          "text": [
            "96/96 [==============================] - 0s 1ms/step\n",
            "Testing performance\n",
            "RMSE: 0.19\n",
            "R2: 0.11\n"
          ]
        }
      ]
    },
    {
      "cell_type": "code",
      "source": [
        "predic1 = model.predict(one_hot1)"
      ],
      "metadata": {
        "colab": {
          "base_uri": "https://localhost:8080/"
        },
        "id": "bDWLR1rLDoUl",
        "outputId": "c1c62f8e-64b9-4b9d-d00f-5e4be0b774f2"
      },
      "execution_count": null,
      "outputs": [
        {
          "output_type": "stream",
          "name": "stdout",
          "text": [
            "319/319 [==============================] - 1s 3ms/step\n"
          ]
        }
      ]
    },
    {
      "cell_type": "code",
      "source": [
        "subm['stroke'] = predic1\n",
        "subm.to_csv(\"/content/drive/MyDrive/Kaggle_1/playground-series-s3e2/submission_Network.csv\", index=False)"
      ],
      "metadata": {
        "id": "sZ_qBjgXDvST"
      },
      "execution_count": null,
      "outputs": []
    },
    {
      "cell_type": "code",
      "source": [],
      "metadata": {
        "id": "d0himgTQD1h-"
      },
      "execution_count": null,
      "outputs": []
    }
  ]
}